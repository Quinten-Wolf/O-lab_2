{
 "cells": [
  {
   "cell_type": "code",
   "execution_count": 1,
   "metadata": {
    "collapsed": true
   },
   "outputs": [],
   "source": [
    "from eratos.creds import AccessTokenCreds\n",
    "from eratos.adapter import Adapter\n",
    "import eratos.climate as eratosClimate\n",
    "import eratos.helpers as helpers\n",
    "import os\n",
    "import yaml\n",
    "from yaml.loader import SafeLoader\n",
    "import json\n",
    "import pprint\n",
    "import datetime\n",
    "import shapely\n",
    "from shapely import wkt, geometry\n",
    "from datetime import timezone\n",
    "from keplergl import KeplerGl\n",
    "import geopandas as gpd\n",
    "import numpy as np\n",
    "import datetime\n",
    "import json\n",
    "import pandas as pd\n",
    "import numpy as np\n",
    "from datetime import  timezone\n",
    "from datetime import date\n",
    "import geopandas as gpd\n",
    "from shapely.geometry import box\n",
    "from shapely import wkt\n",
    "import datetime\n",
    "import os\n",
    "\n",
    "ERATOS_KEY = os.environ['ERATOS_KEY']\n",
    "ERATOS_SECRET = os.environ['ERATOS_SECRET']\n",
    "\n",
    "ecreds = AccessTokenCreds(\n",
    "  ERATOS_KEY,\n",
    "  ERATOS_SECRET\n",
    ")\n",
    "eadapter = Adapter(ecreds)"
   ]
  },
  {
   "cell_type": "code",
   "execution_count": 24,
   "outputs": [],
   "source": [
    "def get_forecast_data_for_points(ern: str, point_list: str):\n",
    "\n",
    "    # Parse the date range using the iso8601 format\n",
    "    e_data = eadapter.Resource(ern=ern)\n",
    "    #access the gridded data via the gridded data adapter:\n",
    "    gridded_e_data = e_data.data().gapi()\n",
    "         # Load Point strings as Shapely Points\n",
    "    wkt_list = []\n",
    "    for point in (point_list):\n",
    "        loc_shape = wkt.loads(point)\n",
    "        if type(loc_shape) is not geometry.Point:\n",
    "            raise ValueError('value inside point_list should be a WKT point')\n",
    "        loc= [loc_shape.y, loc_shape.x]\n",
    "        wkt_list.append(loc)\n",
    "\n",
    "\n",
    "    data_query_array = gridded_e_data.get_point_slices(gridded_e_data.get_key_variables()[0], 'SPP', pts=wkt_list, starts=[0], ends=[-1],strides =  [1])\n",
    "\n",
    "    times = []\n",
    "    for unix_time in gridded_e_data.get_subset_as_array('time'):\n",
    "\n",
    "        date = datetime.datetime.fromtimestamp(unix_time)\n",
    "\n",
    "        # Format the datetime object as an ISO 8601 string\n",
    "        date_8601 = date.isoformat()\n",
    "        times.append(date_8601)\n",
    "\n",
    "    return data_query_array,times\n",
    "\n",
    "def get_forecast_multiple_data_at_point(ern_list, point:str):\n",
    "     data = {}\n",
    "     times = None\n",
    "     for ern in ern_list:\n",
    "         e_data = eadapter.Resource(ern=ern)\n",
    "         gridded_e_data = e_data.data().gapi()\n",
    "         if times is None:\n",
    "             times = gridded_e_data.get_subset_as_array('time')\n",
    "             data['times'] = times\n",
    "         variable = gridded_e_data.get_key_variables()[0]\n",
    "\n",
    "         p = wkt.loads(point)\n",
    "         pt = [p.y, p.x]\n",
    "         data[variable] = gridded_e_data.get_point_slices(\n",
    "           variable, 'SPP', pts = [pt], starts = [0], ends=[-1], strides=  [1]\n",
    "         )\n",
    "     return data\n",
    "     data = pd.DataFrame(data)\n",
    "     data.times = pd.to_datetime(data.times)\n",
    "     return data\n"
   ],
   "metadata": {
    "collapsed": false
   }
  },
  {
   "cell_type": "code",
   "execution_count": 25,
   "outputs": [],
   "source": [
    "ern_list = [\n",
    "    'ern:e-pn.io:resource:eratos.blocks.bom.adfd.3hourlyskycoverforecastau6km',\n",
    "    'ern:e-pn.io:resource:eratos.blocks.bom.adfd.dailymintempforecastau6km',\n",
    "    'ern:e-pn.io:resource:eratos.blocks.bom.adfd.dewpointtempforecastau6km'\n",
    "]\n",
    "location = 'POINT(141.181121 -34.147659)'\n"
   ],
   "metadata": {
    "collapsed": false
   }
  },
  {
   "cell_type": "code",
   "execution_count": 27,
   "outputs": [],
   "source": [
    "data = get_forecast_multiple_data_at_point(ern_list, location)"
   ],
   "metadata": {
    "collapsed": false
   }
  },
  {
   "cell_type": "code",
   "execution_count": 28,
   "outputs": [
    {
     "data": {
      "text/plain": "{'times': array([1.6709544e+09, 1.6709652e+09, 1.6709760e+09, 1.6709868e+09,\n        1.6709976e+09, 1.6710084e+09, 1.6710192e+09, 1.6710300e+09,\n        1.6710408e+09, 1.6710516e+09, 1.6710624e+09, 1.6710732e+09,\n        1.6710840e+09, 1.6710948e+09, 1.6711056e+09, 1.6711164e+09,\n        1.6711272e+09, 1.6711380e+09, 1.6711488e+09, 1.6711596e+09,\n        1.6711704e+09, 1.6711812e+09, 1.6711920e+09, 1.6712028e+09,\n        1.6712136e+09, 1.6712244e+09, 1.6712352e+09, 1.6712460e+09,\n        1.6712568e+09, 1.6712676e+09, 1.6712784e+09, 1.6712892e+09,\n        1.6713000e+09, 1.6713108e+09, 1.6713216e+09, 1.6713324e+09,\n        1.6713432e+09, 1.6713540e+09, 1.6713648e+09, 1.6713756e+09,\n        1.6713864e+09, 1.6713972e+09, 1.6714080e+09, 1.6714188e+09,\n        1.6714296e+09, 1.6714404e+09, 1.6714512e+09, 1.6714620e+09,\n        1.6714728e+09, 1.6714836e+09, 1.6714944e+09, 1.6715052e+09,\n        1.6715160e+09, 1.6715268e+09, 1.6715376e+09]),\n 'Sky_SFC': array([[ 0., 17., 50., 46., 23., 18., 38., 41., 32., 32., 66., 31., 19.,\n         14.,  4.,  6., 16., 17., 10.,  1.,  2.,  2.,  1.,  0.,  0.,  0.,\n          0.,  0.,  0.,  5., 12., 12., 13., 15., 19., 21., 20., 21., 22.,\n         18., 15., 21., 21., 21., 23., 28., 34., 39., 44., 46., 53., 57.,\n         54., 52., 54.]]),\n 'MinT_SFC': array([[ 7.70000029,  8.90000057,  9.19999981, 11.19999981, 13.5       ,\n         15.40000057, 18.39999962, 18.39999962]]),\n 'Td_SFC': array([[4.80000019, 5.5       , 5.30000019, 5.        , 3.9000001 ,\n         3.10000014, 2.4000001 , 2.4000001 , 2.70000005, 3.4000001 ,\n         4.        , 4.4000001 , 4.5999999 , 4.70000029, 5.20000029,\n         4.4000001 , 3.29999995, 2.5       , 2.29999995, 1.89999998,\n         1.60000002, 1.20000005, 0.90000004, 0.60000002, 0.5       ,\n         0.60000002, 0.5       , 0.5       , 1.20000005, 2.        ,\n         2.5       , 3.        , 3.4000001 , 4.        , 4.20000029,\n         4.4000001 , 4.4000001 , 4.4000001 , 5.        , 4.9000001 ,\n         4.30000019, 3.10000014, 2.29999995, 2.        , 2.        ,\n         1.60000002, 1.70000005, 1.80000007, 1.89999998, 1.89999998,\n         1.60000002, 2.10000014, 2.60000014, 3.70000005, 4.30000019,\n         4.4000001 , 4.80000019, 5.20000029, 5.0999999 , 4.70000029,\n         4.5999999 , 4.9000001 , 5.30000019, 5.4000001 , 5.        ,\n         4.0999999 , 3.60000014, 3.5       , 3.20000005, 2.9000001 ,\n         3.10000014, 3.        , 3.20000005, 3.10000014, 3.        ,\n         3.        , 3.5       , 4.80000019, 5.20000029, 5.70000029,\n         6.4000001 , 7.0999999 , 7.0999999 , 6.9000001 , 6.70000029,\n         6.80000019, 7.        , 6.80000019, 6.4000001 , 5.30000019,\n         4.9000001 , 4.5       , 4.0999999 , 3.4000001 , 3.29999995,\n         3.10000014, 2.60000014, 2.4000001 , 2.29999995, 2.29999995,\n         3.29999995, 5.20000029, 5.70000029, 5.70000029, 6.0999999 ,\n         6.5999999 , 7.20000029, 7.4000001 , 7.5999999 , 7.5999999 ,\n         8.10000038, 8.10000038, 7.70000029, 6.80000019, 6.0999999 ,\n         5.5       , 4.80000019, 3.29999995, 3.20000005, 2.70000005,\n         2.        , 1.60000002, 1.30000007, 1.20000005, 2.29999995,\n         4.        , 4.5       , 4.80000019, 5.20000029, 5.70000029,\n         5.9000001 , 6.0999999 , 6.4000001 , 6.5999999 , 7.        ,\n         7.20000029, 7.        , 5.80000019, 5.80000019, 5.4000001 ,\n         5.0999999 , 3.79999995, 3.60000014, 3.29999995, 2.5       ,\n         2.4000001 , 2.4000001 , 2.5       , 3.5       , 4.5999999 ,\n         4.9000001 , 5.        , 5.20000029, 5.5       , 5.70000029,\n         5.80000019, 5.80000019, 5.9000001 , 6.30000019, 6.5       ,\n         6.5       , 5.70000029, 5.        , 4.9000001 , 4.5999999 ,\n         4.0999999 , 4.20000029, 4.        , 3.79999995, 4.        ,\n         4.        , 4.5       , 5.80000019, 7.20000029, 7.20000029,\n         7.20000029, 7.30000019, 7.20000029]])}"
     },
     "execution_count": 28,
     "metadata": {},
     "output_type": "execute_result"
    }
   ],
   "source": [
    "data"
   ],
   "metadata": {
    "collapsed": false
   }
  },
  {
   "cell_type": "code",
   "execution_count": 14,
   "outputs": [
    {
     "data": {
      "text/plain": "['Sky_SFC']"
     },
     "execution_count": 14,
     "metadata": {},
     "output_type": "execute_result"
    }
   ],
   "source": [
    "cloud_cover_data.get_key_variables()"
   ],
   "metadata": {
    "collapsed": false
   }
  },
  {
   "cell_type": "code",
   "execution_count": 7,
   "outputs": [],
   "source": [
    "location = 'POINT(141.181121 -34.147659)'\n",
    "p =wkt.loads(location)"
   ],
   "metadata": {
    "collapsed": false
   }
  },
  {
   "cell_type": "code",
   "execution_count": 11,
   "outputs": [],
   "source": [
    "cloud_cover_data.get_point_slices('Sky_SFC', )"
   ],
   "metadata": {
    "collapsed": false
   }
  },
  {
   "cell_type": "code",
   "execution_count": null,
   "outputs": [],
   "source": [],
   "metadata": {
    "collapsed": false
   }
  }
 ],
 "metadata": {
  "kernelspec": {
   "display_name": "Python 3",
   "language": "python",
   "name": "python3"
  },
  "language_info": {
   "codemirror_mode": {
    "name": "ipython",
    "version": 2
   },
   "file_extension": ".py",
   "mimetype": "text/x-python",
   "name": "python",
   "nbconvert_exporter": "python",
   "pygments_lexer": "ipython2",
   "version": "2.7.6"
  }
 },
 "nbformat": 4,
 "nbformat_minor": 0
}
